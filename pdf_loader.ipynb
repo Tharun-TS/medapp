{
 "cells": [
  {
   "cell_type": "code",
   "execution_count": 3,
   "metadata": {},
   "outputs": [],
   "source": [
    "import os\n",
    "from PIL import Image \n",
    "from pytesseract import pytesseract"
   ]
  },
  {
   "cell_type": "code",
   "execution_count": 6,
   "metadata": {},
   "outputs": [],
   "source": [
    "img_path = r\"C:\\Users\\Tharun\\Downloads\\report.jpeg\"\n",
    "path_to_tesseract = r\"C:\\Program Files\\Tesseract-OCR\\tesseract.exe\""
   ]
  },
  {
   "cell_type": "code",
   "execution_count": 8,
   "metadata": {},
   "outputs": [],
   "source": [
    "pytesseract.tesseract_cmd = path_to_tesseract\n",
    "img = Image.open(img_path) "
   ]
  },
  {
   "cell_type": "code",
   "execution_count": 9,
   "metadata": {},
   "outputs": [],
   "source": [
    "text = pytesseract.image_to_string(img)"
   ]
  },
  {
   "cell_type": "code",
   "execution_count": 11,
   "metadata": {},
   "outputs": [
    {
     "name": "stdout",
     "output_type": "stream",
     "text": [
      "ANYATH noseitat\n",
      "\n",
      "Is OUR MISSION eral\n",
      "LAB REPORT\n",
      "*66\n",
      "Mrs. SANTHI A. AGE 51 Y SEX Femé\n",
      ": 110789 \\ HAY110789 MOBILE NO 9847970425\n",
      "THALEKKARA HOUSE BILLNO\\RESULTNO ; 6621 6258\n",
      "23-Jun-2023 7:03 pm COLLECTED AT —_: 23-Jun-2023\n",
      "SURYA RAMACHANDRAN MBBS DGO\n",
      "RESUI UNITS REFERENCE RANGES\n",
      "BIOCHEMISTRY\n",
      "RANDOM BLOOD SUGAR 105 mg/dl 80-160\n",
      "RENAL FUNCTION TEST\n",
      "BLOOD UREA, 32 mg/d 1545\n",
      "SERUM CREATININE 08 mg/dl 07-15\n",
      "RIC ACID 43 mg/al\n",
      "TOTAL BILIRUBIN 0.95 me/al——adule- 041-14\n",
      "OL Day- 14-87\n",
      "12 Day -34-115\n",
      "35 Day-13-120\n",
      "DIRECT BILIRUBIN oz mg/dl <0\n",
      "sort a uA 5-40\n",
      "\n",
      "Paul of Report.\n",
      "LAW TECHNOLOGIST Gada de Memoetaxcncs\n",
      "\n",
      "®% hayathhospital.in@gmail.com\n",
      "\n",
      "w.hayathhospital.com\n",
      "\n",
      "\n"
     ]
    }
   ],
   "source": [
    "print(text)"
   ]
  }
 ],
 "metadata": {
  "kernelspec": {
   "display_name": "medapp",
   "language": "python",
   "name": "python3"
  },
  "language_info": {
   "codemirror_mode": {
    "name": "ipython",
    "version": 3
   },
   "file_extension": ".py",
   "mimetype": "text/x-python",
   "name": "python",
   "nbconvert_exporter": "python",
   "pygments_lexer": "ipython3",
   "version": "3.8.18"
  }
 },
 "nbformat": 4,
 "nbformat_minor": 2
}
